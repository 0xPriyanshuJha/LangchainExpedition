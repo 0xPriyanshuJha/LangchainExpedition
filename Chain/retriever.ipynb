{
 "cells": [
  {
   "cell_type": "markdown",
   "metadata": {},
   "source": [
    "## Retriever and Chain with Langchain"
   ]
  },
  {
   "cell_type": "code",
   "execution_count": 2,
   "metadata": {},
   "outputs": [
    {
     "data": {
      "text/plain": [
       "[Document(metadata={'source': 'sample.pdf', 'page': 0}, page_content=\"This\\nletter\\nis\\nan\\nexpression\\nof\\ninterest\\nfrom\\nme\\nfor\\nthe\\nUBS\\nGraduate\\nTrainee\\nposition\\nthat\\nyou\\nhave\\nposted\\non\\nyour\\ncareers\\nwebsite.\\nAs\\nan\\nupcoming\\ngraduate\\n(Bachelors\\nin\\nTechnology)\\nwith\\na\\nbackground\\nin\\nComputer\\nScience\\nSpecl.\\nAI\\n&\\nML\\nand\\nextensive\\nexperience\\nin\\nMachine\\nLearning,\\nI\\nam\\neager\\nto\\ncontribute\\nto\\nand\\ndevelop\\nwith\\na\\nprestigious\\ninternational\\nfinancial\\ninstitution\\nsuch\\nas\\nUBS.\\nI\\nhave\\nrefined\\nmy\\nabilities\\nin\\nsoftware\\nprogramming,\\nmachine\\nlearning,\\nand\\ndata\\nexploration\\nthroughout\\nmy\\ntime\\nas\\na\\nstudent\\nat\\nVellore\\nInstitute\\nof\\nTechnology,\\nBhopal.\\nI've\\nbeen\\nable\\nto\\nhone\\nmy\\nleadership,\\norganizing,\\nand\\nmarketing\\nabilities\\nthrough\\nmy\\nparticipation\\nin\\nthe\\nGoogle\\nDeveloper\\nStudent\\nClubs.\\nI've\\nbeen\\nthe\\nleader\\nof\\nbig\\ncollege\\nevents\\nbefore,\\nsecuring\\nbig\\nsponsorships\\nand\\nspearheading\\nmarketing\\ncampaigns\\nthat\\nraised\\nawareness\\nand\\nparticipation.\\nThese\\nexperiences\\nhave\\ngiven\\nme\\nthe\\ntools\\nI\\nneed\\nto\\nmanage\\nseveral\\nactivities,\\nproduce\\nwork\\nunder\\npressure,\\nand\\ncollaborate\\nwell\\nwith\\nothers\\nin\\na\\nteam.\\nAlong\\nwith\\nmy\\naccomplishments\\nin\\nacademic\\nand\\nextracurricular\\nendeavors,\\nI\\nhave\\nworked\\non\\na\\nnumber\\nof\\nprojects\\nthat\\nhighlight\\nmy\\ntechnical\\nexpertise\\nand\\nenthusiasm\\nfor\\ntechnology.\\nMost\\nnotably,\\nI\\nused\\nmachine\\nlearning\\nand\\ncomputer\\nvision\\ntechniques\\nto\\ncreate\\na\\ngesture-based\\nmouse\\ncontrol\\nsystem.\\nIn\\norder\\nto\\nimprove\\nmy\\npractical\\nabilities\\nand\\nbroaden\\nmy\\ncomprehension\\nof\\nmachine\\nlearning\\ntechniques,\\nI\\nhave\\nalso\\nfinished\\na\\nnumber\\nof\\nML\\nassignments.\\nI\\nam\\nparticularly\\ndrawn\\nto\\nUBS\\ndue\\nto\\nits\\ncommitment\\nto\\ninnovation\\nand\\nexcellence\\nin\\nthe\\nfinancial\\nsector.\\nI\\nam\\neager\\nto\\nbring\\nmy\\nanalytical\\nskills,\\ntechnical\\nexpertise,\\nand\\nenthusiasm\\nfor\\ncontinuous\\nlearning\\nto\\nyour\\nesteemed\\nteam.\\nI\\nam\\nconfident\\nthat\\nmy\\nproactive\\napproach\\nand\\ndedication\\nwill\\nmake\\nme\\na\\nvaluable\\nasset\\nto\\nUBS.\\nThank\\nyou\\nfor\\nconsidering\\nmy\\napplication.\\nI\\nlook\\nforward\\nto\\nthe\\npossibility\\nof\\ndiscussing\\nhow\\nmy\\nbackground,\\nskills,\\nand\\nambitions\\nalign\\nwith\\nthe\\ngoals\\nof\\nUBS.\\nI\\nam\\navailable\\nfor\\nan\\ninterview\\nat\\nyour\\nearliest\\nconvenience\\nand\\ncan\\nbe\\nreached\\nat:\")]"
      ]
     },
     "execution_count": 2,
     "metadata": {},
     "output_type": "execute_result"
    }
   ],
   "source": [
    "from langchain_community.document_loaders import PyPDFLoader\n",
    "loader = PyPDFLoader(\"sample.pdf\")\n",
    "docs = loader.load()\n",
    "docs"
   ]
  },
  {
   "cell_type": "code",
   "execution_count": 19,
   "metadata": {},
   "outputs": [
    {
     "data": {
      "text/plain": [
       "[Document(metadata={'source': 'sample.pdf', 'page': 0}, page_content='This\\nletter\\nis\\nan\\nexpression\\nof\\ninterest\\nfrom\\nme\\nfor\\nthe\\nUBS\\nGraduate\\nTrainee\\nposition\\nthat\\nyou\\nhave\\nposted\\non\\nyour\\ncareers\\nwebsite.\\nAs\\nan\\nupcoming\\ngraduate\\n(Bachelors\\nin\\nTechnology)\\nwith\\na\\nbackground\\nin\\nComputer\\nScience\\nSpecl.\\nAI\\n&\\nML\\nand\\nextensive\\nexperience\\nin\\nMachine\\nLearning,\\nI\\nam\\neager\\nto\\ncontribute\\nto\\nand\\ndevelop\\nwith\\na\\nprestigious\\ninternational\\nfinancial\\ninstitution\\nsuch\\nas\\nUBS.\\nI\\nhave\\nrefined\\nmy\\nabilities\\nin\\nsoftware\\nprogramming,\\nmachine\\nlearning,\\nand\\ndata\\nexploration\\nthroughout\\nmy\\ntime'),\n",
       " Document(metadata={'source': 'sample.pdf', 'page': 0}, page_content=\"my\\nabilities\\nin\\nsoftware\\nprogramming,\\nmachine\\nlearning,\\nand\\ndata\\nexploration\\nthroughout\\nmy\\ntime\\nas\\na\\nstudent\\nat\\nVellore\\nInstitute\\nof\\nTechnology,\\nBhopal.\\nI've\\nbeen\\nable\\nto\\nhone\\nmy\\nleadership,\\norganizing,\\nand\\nmarketing\\nabilities\\nthrough\\nmy\\nparticipation\\nin\\nthe\\nGoogle\\nDeveloper\\nStudent\\nClubs.\\nI've\\nbeen\\nthe\\nleader\\nof\\nbig\\ncollege\\nevents\\nbefore,\\nsecuring\\nbig\\nsponsorships\\nand\\nspearheading\\nmarketing\\ncampaigns\\nthat\\nraised\\nawareness\\nand\\nparticipation.\\nThese\\nexperiences\\nhave\\ngiven\\nme\\nthe\\ntools\\nI\\nneed\\nto\"),\n",
       " Document(metadata={'source': 'sample.pdf', 'page': 0}, page_content='that\\nraised\\nawareness\\nand\\nparticipation.\\nThese\\nexperiences\\nhave\\ngiven\\nme\\nthe\\ntools\\nI\\nneed\\nto\\nmanage\\nseveral\\nactivities,\\nproduce\\nwork\\nunder\\npressure,\\nand\\ncollaborate\\nwell\\nwith\\nothers\\nin\\na\\nteam.\\nAlong\\nwith\\nmy\\naccomplishments\\nin\\nacademic\\nand\\nextracurricular\\nendeavors,\\nI\\nhave\\nworked\\non\\na\\nnumber\\nof\\nprojects\\nthat\\nhighlight\\nmy\\ntechnical\\nexpertise\\nand\\nenthusiasm\\nfor\\ntechnology.\\nMost\\nnotably,\\nI\\nused\\nmachine\\nlearning\\nand\\ncomputer\\nvision\\ntechniques\\nto\\ncreate\\na\\ngesture-based\\nmouse\\ncontrol\\nsystem.\\nIn\\norder'),\n",
       " Document(metadata={'source': 'sample.pdf', 'page': 0}, page_content='learning\\nand\\ncomputer\\nvision\\ntechniques\\nto\\ncreate\\na\\ngesture-based\\nmouse\\ncontrol\\nsystem.\\nIn\\norder\\nto\\nimprove\\nmy\\npractical\\nabilities\\nand\\nbroaden\\nmy\\ncomprehension\\nof\\nmachine\\nlearning\\ntechniques,\\nI\\nhave\\nalso\\nfinished\\na\\nnumber\\nof\\nML\\nassignments.\\nI\\nam\\nparticularly\\ndrawn\\nto\\nUBS\\ndue\\nto\\nits\\ncommitment\\nto\\ninnovation\\nand\\nexcellence\\nin\\nthe\\nfinancial\\nsector.\\nI\\nam\\neager\\nto\\nbring\\nmy\\nanalytical\\nskills,\\ntechnical\\nexpertise,\\nand\\nenthusiasm\\nfor\\ncontinuous\\nlearning\\nto\\nyour\\nesteemed\\nteam.\\nI\\nam\\nconfident\\nthat\\nmy'),\n",
       " Document(metadata={'source': 'sample.pdf', 'page': 0}, page_content='expertise,\\nand\\nenthusiasm\\nfor\\ncontinuous\\nlearning\\nto\\nyour\\nesteemed\\nteam.\\nI\\nam\\nconfident\\nthat\\nmy\\nproactive\\napproach\\nand\\ndedication\\nwill\\nmake\\nme\\na\\nvaluable\\nasset\\nto\\nUBS.\\nThank\\nyou\\nfor\\nconsidering\\nmy\\napplication.\\nI\\nlook\\nforward\\nto\\nthe\\npossibility\\nof\\ndiscussing\\nhow\\nmy\\nbackground,\\nskills,\\nand\\nambitions\\nalign\\nwith\\nthe\\ngoals\\nof\\nUBS.\\nI\\nam\\navailable\\nfor\\nan\\ninterview\\nat\\nyour\\nearliest\\nconvenience\\nand\\ncan\\nbe\\nreached\\nat:')]"
      ]
     },
     "execution_count": 19,
     "metadata": {},
     "output_type": "execute_result"
    }
   ],
   "source": [
    "from langchain.text_splitter import RecursiveCharacterTextSplitter\n",
    "text_splitter = RecursiveCharacterTextSplitter(chunk_size=500, chunk_overlap = 100)\n",
    "text_splitter.split_documents(docs)[:5]"
   ]
  },
  {
   "cell_type": "code",
   "execution_count": 20,
   "metadata": {},
   "outputs": [
    {
     "data": {
      "text/plain": [
       "[Document(metadata={'source': 'sample.pdf', 'page': 0}, page_content='This\\nletter\\nis\\nan\\nexpression\\nof\\ninterest\\nfrom\\nme\\nfor\\nthe\\nUBS\\nGraduate\\nTrainee\\nposition\\nthat\\nyou\\nhave\\nposted\\non\\nyour\\ncareers\\nwebsite.\\nAs\\nan\\nupcoming\\ngraduate\\n(Bachelors\\nin\\nTechnology)\\nwith\\na\\nbackground\\nin\\nComputer\\nScience\\nSpecl.\\nAI\\n&\\nML\\nand\\nextensive\\nexperience\\nin\\nMachine\\nLearning,\\nI\\nam\\neager\\nto\\ncontribute\\nto\\nand\\ndevelop\\nwith\\na\\nprestigious\\ninternational\\nfinancial\\ninstitution\\nsuch\\nas\\nUBS.\\nI\\nhave\\nrefined\\nmy\\nabilities\\nin\\nsoftware\\nprogramming,\\nmachine\\nlearning,\\nand\\ndata\\nexploration\\nthroughout\\nmy\\ntime'),\n",
       " Document(metadata={'source': 'sample.pdf', 'page': 0}, page_content=\"my\\nabilities\\nin\\nsoftware\\nprogramming,\\nmachine\\nlearning,\\nand\\ndata\\nexploration\\nthroughout\\nmy\\ntime\\nas\\na\\nstudent\\nat\\nVellore\\nInstitute\\nof\\nTechnology,\\nBhopal.\\nI've\\nbeen\\nable\\nto\\nhone\\nmy\\nleadership,\\norganizing,\\nand\\nmarketing\\nabilities\\nthrough\\nmy\\nparticipation\\nin\\nthe\\nGoogle\\nDeveloper\\nStudent\\nClubs.\\nI've\\nbeen\\nthe\\nleader\\nof\\nbig\\ncollege\\nevents\\nbefore,\\nsecuring\\nbig\\nsponsorships\\nand\\nspearheading\\nmarketing\\ncampaigns\\nthat\\nraised\\nawareness\\nand\\nparticipation.\\nThese\\nexperiences\\nhave\\ngiven\\nme\\nthe\\ntools\\nI\\nneed\\nto\"),\n",
       " Document(metadata={'source': 'sample.pdf', 'page': 0}, page_content='that\\nraised\\nawareness\\nand\\nparticipation.\\nThese\\nexperiences\\nhave\\ngiven\\nme\\nthe\\ntools\\nI\\nneed\\nto\\nmanage\\nseveral\\nactivities,\\nproduce\\nwork\\nunder\\npressure,\\nand\\ncollaborate\\nwell\\nwith\\nothers\\nin\\na\\nteam.\\nAlong\\nwith\\nmy\\naccomplishments\\nin\\nacademic\\nand\\nextracurricular\\nendeavors,\\nI\\nhave\\nworked\\non\\na\\nnumber\\nof\\nprojects\\nthat\\nhighlight\\nmy\\ntechnical\\nexpertise\\nand\\nenthusiasm\\nfor\\ntechnology.\\nMost\\nnotably,\\nI\\nused\\nmachine\\nlearning\\nand\\ncomputer\\nvision\\ntechniques\\nto\\ncreate\\na\\ngesture-based\\nmouse\\ncontrol\\nsystem.\\nIn\\norder'),\n",
       " Document(metadata={'source': 'sample.pdf', 'page': 0}, page_content='learning\\nand\\ncomputer\\nvision\\ntechniques\\nto\\ncreate\\na\\ngesture-based\\nmouse\\ncontrol\\nsystem.\\nIn\\norder\\nto\\nimprove\\nmy\\npractical\\nabilities\\nand\\nbroaden\\nmy\\ncomprehension\\nof\\nmachine\\nlearning\\ntechniques,\\nI\\nhave\\nalso\\nfinished\\na\\nnumber\\nof\\nML\\nassignments.\\nI\\nam\\nparticularly\\ndrawn\\nto\\nUBS\\ndue\\nto\\nits\\ncommitment\\nto\\ninnovation\\nand\\nexcellence\\nin\\nthe\\nfinancial\\nsector.\\nI\\nam\\neager\\nto\\nbring\\nmy\\nanalytical\\nskills,\\ntechnical\\nexpertise,\\nand\\nenthusiasm\\nfor\\ncontinuous\\nlearning\\nto\\nyour\\nesteemed\\nteam.\\nI\\nam\\nconfident\\nthat\\nmy'),\n",
       " Document(metadata={'source': 'sample.pdf', 'page': 0}, page_content='expertise,\\nand\\nenthusiasm\\nfor\\ncontinuous\\nlearning\\nto\\nyour\\nesteemed\\nteam.\\nI\\nam\\nconfident\\nthat\\nmy\\nproactive\\napproach\\nand\\ndedication\\nwill\\nmake\\nme\\na\\nvaluable\\nasset\\nto\\nUBS.\\nThank\\nyou\\nfor\\nconsidering\\nmy\\napplication.\\nI\\nlook\\nforward\\nto\\nthe\\npossibility\\nof\\ndiscussing\\nhow\\nmy\\nbackground,\\nskills,\\nand\\nambitions\\nalign\\nwith\\nthe\\ngoals\\nof\\nUBS.\\nI\\nam\\navailable\\nfor\\nan\\ninterview\\nat\\nyour\\nearliest\\nconvenience\\nand\\ncan\\nbe\\nreached\\nat:')]"
      ]
     },
     "execution_count": 20,
     "metadata": {},
     "output_type": "execute_result"
    }
   ],
   "source": [
    "documents = text_splitter.split_documents(docs)\n",
    "documents"
   ]
  },
  {
   "cell_type": "code",
   "execution_count": 21,
   "metadata": {},
   "outputs": [],
   "source": [
    "from langchain_community.embeddings import OllamaEmbeddings\n",
    "from langchain_community.embeddings import OpenAIEmbeddings\n",
    "from langchain_community.vectorstores import FAISS\n",
    "\n",
    "db = FAISS.from_documents(documents[:20], OllamaEmbeddings())"
   ]
  },
  {
   "cell_type": "code",
   "execution_count": 26,
   "metadata": {},
   "outputs": [
    {
     "data": {
      "text/plain": [
       "'learning\\nand\\ncomputer\\nvision\\ntechniques\\nto\\ncreate\\na\\ngesture-based\\nmouse\\ncontrol\\nsystem.\\nIn\\norder\\nto\\nimprove\\nmy\\npractical\\nabilities\\nand\\nbroaden\\nmy\\ncomprehension\\nof\\nmachine\\nlearning\\ntechniques,\\nI\\nhave\\nalso\\nfinished\\na\\nnumber\\nof\\nML\\nassignments.\\nI\\nam\\nparticularly\\ndrawn\\nto\\nUBS\\ndue\\nto\\nits\\ncommitment\\nto\\ninnovation\\nand\\nexcellence\\nin\\nthe\\nfinancial\\nsector.\\nI\\nam\\neager\\nto\\nbring\\nmy\\nanalytical\\nskills,\\ntechnical\\nexpertise,\\nand\\nenthusiasm\\nfor\\ncontinuous\\nlearning\\nto\\nyour\\nesteemed\\nteam.\\nI\\nam\\nconfident\\nthat\\nmy'"
      ]
     },
     "execution_count": 26,
     "metadata": {},
     "output_type": "execute_result"
    }
   ],
   "source": [
    "query = \"Which Project is there?\"\n",
    "res = db.similarity_search(query)\n",
    "res[0].page_content"
   ]
  },
  {
   "cell_type": "code",
   "execution_count": 27,
   "metadata": {},
   "outputs": [
    {
     "data": {
      "text/plain": [
       "Ollama()"
      ]
     },
     "execution_count": 27,
     "metadata": {},
     "output_type": "execute_result"
    }
   ],
   "source": [
    "from langchain_community.llms import Ollama\n",
    "# loading ollama with llama2 model\n",
    "llm = Ollama(model=\"llama2\")\n",
    "llm"
   ]
  },
  {
   "cell_type": "code",
   "execution_count": 32,
   "metadata": {},
   "outputs": [],
   "source": [
    "# designing chat template\n",
    "from langchain_core.prompts import ChatPromptTemplate\n",
    "prompt = ChatPromptTemplate.from_template(\n",
    "    \"\"\"\n",
    "Answer the following question based only on the provided context.\n",
    "Think step by step before providing the a detailed answer.\n",
    "I will give you some reward if the user finds the answer helpful.\n",
    "<context>\n",
    "{context}\n",
    "</context>\n",
    "Questions:{input}\"\"\")"
   ]
  },
  {
   "cell_type": "code",
   "execution_count": 33,
   "metadata": {},
   "outputs": [],
   "source": [
    "# creating stuff document chain\n",
    "from langchain.chains.combine_documents import create_stuff_documents_chain\n",
    "\n",
    "document_chain = create_stuff_documents_chain(llm,prompt)"
   ]
  },
  {
   "cell_type": "code",
   "execution_count": 34,
   "metadata": {},
   "outputs": [
    {
     "data": {
      "text/plain": [
       "VectorStoreRetriever(tags=['FAISS', 'OllamaEmbeddings'], vectorstore=<langchain_community.vectorstores.faiss.FAISS object at 0x146298ad0>)"
      ]
     },
     "execution_count": 34,
     "metadata": {},
     "output_type": "execute_result"
    }
   ],
   "source": [
    "# retriever\n",
    "retriever = db.as_retriever()\n",
    "retriever"
   ]
  },
  {
   "cell_type": "code",
   "execution_count": 35,
   "metadata": {},
   "outputs": [],
   "source": [
    "# Retriever chain\n",
    "from langchain.chains import create_retrieval_chain\n",
    "retrieval_chain = create_retrieval_chain(retriever, document_chain)"
   ]
  },
  {
   "cell_type": "code",
   "execution_count": 37,
   "metadata": {},
   "outputs": [],
   "source": [
    "response = retrieval_chain.invoke({\"input\":\"Along with my accomplishments in academic and extracurricular endeavors.\"})"
   ]
  },
  {
   "cell_type": "code",
   "execution_count": 38,
   "metadata": {},
   "outputs": [
    {
     "data": {
      "text/plain": [
       "\"Great! Based on the provided context, here are some questions that you might be asked during an interview for a Graduate Trainee position at UBS:\\n\\n1. Can you tell us more about your background in computer science and your specialization in AI and ML? How have you applied these skills in your previous projects?\\n2. How do you think your experience with machine learning and computer vision techniques can contribute to the development of innovative solutions at UBS?\\n3. Can you describe a time when you had to manage multiple activities under pressure? How did you prioritize tasks and ensure deadlines were met?\\n4. How do you stay up-to-date with the latest developments in your field, particularly in areas like AI and ML? Can you give us an example of a recent publication or conference you attended?\\n5. How do you see yourself collaborating with others in a team environment, given your experience working on projects independently? Can you provide an example of a successful collaboration?\\n6. What motivates you to pursue a career in the financial sector, and why did you choose UBS specifically?\\n7. How do you balance theory and practical application in your work? Can you give us an example of a project where you had to apply theoretical knowledge in a real-world setting?\\n8. How do you handle feedback or criticism of your work? Can you provide an example of a time when you received constructive feedback and how you used it to improve your work?\\n9. Can you tell us about a particularly challenging problem you faced in a project, and how you went about solving it? What did you learn from the experience?\\n10. How do you see yourself growing and developing within UBS, both professionally and personally? What opportunities are you most excited about exploring?\\n\\nRemember to highlight your relevant skills, experiences, and achievements during the interview, and be prepared to provide specific examples of how your background and interests align with UBS's goals and values. Good luck!\""
      ]
     },
     "execution_count": 38,
     "metadata": {},
     "output_type": "execute_result"
    }
   ],
   "source": [
    "response['answer']"
   ]
  },
  {
   "cell_type": "code",
   "execution_count": null,
   "metadata": {},
   "outputs": [],
   "source": []
  }
 ],
 "metadata": {
  "kernelspec": {
   "display_name": "Python 3",
   "language": "python",
   "name": "python3"
  },
  "language_info": {
   "codemirror_mode": {
    "name": "ipython",
    "version": 3
   },
   "file_extension": ".py",
   "mimetype": "text/x-python",
   "name": "python",
   "nbconvert_exporter": "python",
   "pygments_lexer": "ipython3",
   "version": "3.11.7"
  }
 },
 "nbformat": 4,
 "nbformat_minor": 2
}
